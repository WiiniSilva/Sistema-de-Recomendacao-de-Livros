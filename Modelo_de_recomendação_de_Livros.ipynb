{
  "nbformat": 4,
  "nbformat_minor": 0,
  "metadata": {
    "colab": {
      "provenance": [],
      "toc_visible": true
    },
    "kernelspec": {
      "name": "python3",
      "display_name": "Python 3"
    },
    "language_info": {
      "name": "python"
    }
  },
  "cells": [
    {
      "cell_type": "markdown",
      "source": [
        "# **SISTEMA DE RECOMENDAÇÃO DE LIVROS**\n",
        "Base de dados tirada do Kaggle: https://www.kaggle.com/datasets/zygmunt/goodbooks-10k"
      ],
      "metadata": {
        "id": "-b8R3ET0k4j7"
      }
    },
    {
      "cell_type": "code",
      "execution_count": 140,
      "metadata": {
        "id": "gRoNYuS9i5hY"
      },
      "outputs": [],
      "source": [
        "import pandas as pd\n",
        "import numpy as np\n",
        "import seaborn as sns"
      ]
    },
    {
      "cell_type": "code",
      "source": [
        "livros_df = pd.read_csv('books.csv', sep=',')"
      ],
      "metadata": {
        "id": "kSeCFgyyjNhW"
      },
      "execution_count": 141,
      "outputs": []
    },
    {
      "cell_type": "code",
      "source": [
        "livros_df.tail()"
      ],
      "metadata": {
        "colab": {
          "base_uri": "https://localhost:8080/",
          "height": 421
        },
        "id": "3ixxHrA8kKZM",
        "outputId": "a7a58327-2edf-4512-c557-27b878bdf0ab"
      },
      "execution_count": 142,
      "outputs": [
        {
          "output_type": "execute_result",
          "data": {
            "text/plain": [
              "         id  book_id  best_book_id   work_id  books_count        isbn  \\\n",
              "9995   9996  7130616       7130616   7392860           19   441019455   \n",
              "9996   9997   208324        208324   1084709           19  067973371X   \n",
              "9997   9998    77431         77431   2393986           60  039330762X   \n",
              "9998   9999  8565083       8565083  13433613            7    61711527   \n",
              "9999  10000     8914          8914     11817           31   375700455   \n",
              "\n",
              "            isbn13          authors  original_publication_year  \\\n",
              "9995  9.780441e+12    Ilona Andrews                     2010.0   \n",
              "9996  9.780680e+12   Robert A. Caro                     1990.0   \n",
              "9997  9.780393e+12  Patrick O'Brian                     1977.0   \n",
              "9998  9.780062e+12  Peggy Orenstein                     2011.0   \n",
              "9999  9.780376e+12      John Keegan                     1998.0   \n",
              "\n",
              "                                         original_title  ... ratings_count  \\\n",
              "9995                                         Bayou Moon  ...         17204   \n",
              "9996                                   Means of Ascent   ...         12582   \n",
              "9997                              The Mauritius Command  ...          9421   \n",
              "9998  Cinderella Ate My Daughter: Dispatches from th...  ...         11279   \n",
              "9999                                The First World War  ...          9162   \n",
              "\n",
              "     work_ratings_count  work_text_reviews_count  ratings_1  ratings_2  \\\n",
              "9995              18856                     1180        105        575   \n",
              "9996              12952                      395        303        551   \n",
              "9997              10733                      374         11        111   \n",
              "9998              11994                     1988        275       1002   \n",
              "9999               9700                      364        117        345   \n",
              "\n",
              "      ratings_3  ratings_4  ratings_5  \\\n",
              "9995       3538       7860       6778   \n",
              "9996       1737       3389       6972   \n",
              "9997       1191       4240       5180   \n",
              "9998       3765       4577       2375   \n",
              "9999       2031       4138       3069   \n",
              "\n",
              "                                              image_url  \\\n",
              "9995  https://images.gr-assets.com/books/1307445460m...   \n",
              "9996  https://s.gr-assets.com/assets/nophoto/book/11...   \n",
              "9997  https://images.gr-assets.com/books/1455373531m...   \n",
              "9998  https://images.gr-assets.com/books/1279214118m...   \n",
              "9999  https://images.gr-assets.com/books/1403194704m...   \n",
              "\n",
              "                                        small_image_url  \n",
              "9995  https://images.gr-assets.com/books/1307445460s...  \n",
              "9996  https://s.gr-assets.com/assets/nophoto/book/50...  \n",
              "9997  https://images.gr-assets.com/books/1455373531s...  \n",
              "9998  https://images.gr-assets.com/books/1279214118s...  \n",
              "9999  https://images.gr-assets.com/books/1403194704s...  \n",
              "\n",
              "[5 rows x 23 columns]"
            ],
            "text/html": [
              "\n",
              "  <div id=\"df-b4d136f5-df1e-4e29-9ef5-ee876dd84a17\">\n",
              "    <div class=\"colab-df-container\">\n",
              "      <div>\n",
              "<style scoped>\n",
              "    .dataframe tbody tr th:only-of-type {\n",
              "        vertical-align: middle;\n",
              "    }\n",
              "\n",
              "    .dataframe tbody tr th {\n",
              "        vertical-align: top;\n",
              "    }\n",
              "\n",
              "    .dataframe thead th {\n",
              "        text-align: right;\n",
              "    }\n",
              "</style>\n",
              "<table border=\"1\" class=\"dataframe\">\n",
              "  <thead>\n",
              "    <tr style=\"text-align: right;\">\n",
              "      <th></th>\n",
              "      <th>id</th>\n",
              "      <th>book_id</th>\n",
              "      <th>best_book_id</th>\n",
              "      <th>work_id</th>\n",
              "      <th>books_count</th>\n",
              "      <th>isbn</th>\n",
              "      <th>isbn13</th>\n",
              "      <th>authors</th>\n",
              "      <th>original_publication_year</th>\n",
              "      <th>original_title</th>\n",
              "      <th>...</th>\n",
              "      <th>ratings_count</th>\n",
              "      <th>work_ratings_count</th>\n",
              "      <th>work_text_reviews_count</th>\n",
              "      <th>ratings_1</th>\n",
              "      <th>ratings_2</th>\n",
              "      <th>ratings_3</th>\n",
              "      <th>ratings_4</th>\n",
              "      <th>ratings_5</th>\n",
              "      <th>image_url</th>\n",
              "      <th>small_image_url</th>\n",
              "    </tr>\n",
              "  </thead>\n",
              "  <tbody>\n",
              "    <tr>\n",
              "      <th>9995</th>\n",
              "      <td>9996</td>\n",
              "      <td>7130616</td>\n",
              "      <td>7130616</td>\n",
              "      <td>7392860</td>\n",
              "      <td>19</td>\n",
              "      <td>441019455</td>\n",
              "      <td>9.780441e+12</td>\n",
              "      <td>Ilona Andrews</td>\n",
              "      <td>2010.0</td>\n",
              "      <td>Bayou Moon</td>\n",
              "      <td>...</td>\n",
              "      <td>17204</td>\n",
              "      <td>18856</td>\n",
              "      <td>1180</td>\n",
              "      <td>105</td>\n",
              "      <td>575</td>\n",
              "      <td>3538</td>\n",
              "      <td>7860</td>\n",
              "      <td>6778</td>\n",
              "      <td>https://images.gr-assets.com/books/1307445460m...</td>\n",
              "      <td>https://images.gr-assets.com/books/1307445460s...</td>\n",
              "    </tr>\n",
              "    <tr>\n",
              "      <th>9996</th>\n",
              "      <td>9997</td>\n",
              "      <td>208324</td>\n",
              "      <td>208324</td>\n",
              "      <td>1084709</td>\n",
              "      <td>19</td>\n",
              "      <td>067973371X</td>\n",
              "      <td>9.780680e+12</td>\n",
              "      <td>Robert A. Caro</td>\n",
              "      <td>1990.0</td>\n",
              "      <td>Means of Ascent</td>\n",
              "      <td>...</td>\n",
              "      <td>12582</td>\n",
              "      <td>12952</td>\n",
              "      <td>395</td>\n",
              "      <td>303</td>\n",
              "      <td>551</td>\n",
              "      <td>1737</td>\n",
              "      <td>3389</td>\n",
              "      <td>6972</td>\n",
              "      <td>https://s.gr-assets.com/assets/nophoto/book/11...</td>\n",
              "      <td>https://s.gr-assets.com/assets/nophoto/book/50...</td>\n",
              "    </tr>\n",
              "    <tr>\n",
              "      <th>9997</th>\n",
              "      <td>9998</td>\n",
              "      <td>77431</td>\n",
              "      <td>77431</td>\n",
              "      <td>2393986</td>\n",
              "      <td>60</td>\n",
              "      <td>039330762X</td>\n",
              "      <td>9.780393e+12</td>\n",
              "      <td>Patrick O'Brian</td>\n",
              "      <td>1977.0</td>\n",
              "      <td>The Mauritius Command</td>\n",
              "      <td>...</td>\n",
              "      <td>9421</td>\n",
              "      <td>10733</td>\n",
              "      <td>374</td>\n",
              "      <td>11</td>\n",
              "      <td>111</td>\n",
              "      <td>1191</td>\n",
              "      <td>4240</td>\n",
              "      <td>5180</td>\n",
              "      <td>https://images.gr-assets.com/books/1455373531m...</td>\n",
              "      <td>https://images.gr-assets.com/books/1455373531s...</td>\n",
              "    </tr>\n",
              "    <tr>\n",
              "      <th>9998</th>\n",
              "      <td>9999</td>\n",
              "      <td>8565083</td>\n",
              "      <td>8565083</td>\n",
              "      <td>13433613</td>\n",
              "      <td>7</td>\n",
              "      <td>61711527</td>\n",
              "      <td>9.780062e+12</td>\n",
              "      <td>Peggy Orenstein</td>\n",
              "      <td>2011.0</td>\n",
              "      <td>Cinderella Ate My Daughter: Dispatches from th...</td>\n",
              "      <td>...</td>\n",
              "      <td>11279</td>\n",
              "      <td>11994</td>\n",
              "      <td>1988</td>\n",
              "      <td>275</td>\n",
              "      <td>1002</td>\n",
              "      <td>3765</td>\n",
              "      <td>4577</td>\n",
              "      <td>2375</td>\n",
              "      <td>https://images.gr-assets.com/books/1279214118m...</td>\n",
              "      <td>https://images.gr-assets.com/books/1279214118s...</td>\n",
              "    </tr>\n",
              "    <tr>\n",
              "      <th>9999</th>\n",
              "      <td>10000</td>\n",
              "      <td>8914</td>\n",
              "      <td>8914</td>\n",
              "      <td>11817</td>\n",
              "      <td>31</td>\n",
              "      <td>375700455</td>\n",
              "      <td>9.780376e+12</td>\n",
              "      <td>John Keegan</td>\n",
              "      <td>1998.0</td>\n",
              "      <td>The First World War</td>\n",
              "      <td>...</td>\n",
              "      <td>9162</td>\n",
              "      <td>9700</td>\n",
              "      <td>364</td>\n",
              "      <td>117</td>\n",
              "      <td>345</td>\n",
              "      <td>2031</td>\n",
              "      <td>4138</td>\n",
              "      <td>3069</td>\n",
              "      <td>https://images.gr-assets.com/books/1403194704m...</td>\n",
              "      <td>https://images.gr-assets.com/books/1403194704s...</td>\n",
              "    </tr>\n",
              "  </tbody>\n",
              "</table>\n",
              "<p>5 rows × 23 columns</p>\n",
              "</div>\n",
              "      <button class=\"colab-df-convert\" onclick=\"convertToInteractive('df-b4d136f5-df1e-4e29-9ef5-ee876dd84a17')\"\n",
              "              title=\"Convert this dataframe to an interactive table.\"\n",
              "              style=\"display:none;\">\n",
              "        \n",
              "  <svg xmlns=\"http://www.w3.org/2000/svg\" height=\"24px\"viewBox=\"0 0 24 24\"\n",
              "       width=\"24px\">\n",
              "    <path d=\"M0 0h24v24H0V0z\" fill=\"none\"/>\n",
              "    <path d=\"M18.56 5.44l.94 2.06.94-2.06 2.06-.94-2.06-.94-.94-2.06-.94 2.06-2.06.94zm-11 1L8.5 8.5l.94-2.06 2.06-.94-2.06-.94L8.5 2.5l-.94 2.06-2.06.94zm10 10l.94 2.06.94-2.06 2.06-.94-2.06-.94-.94-2.06-.94 2.06-2.06.94z\"/><path d=\"M17.41 7.96l-1.37-1.37c-.4-.4-.92-.59-1.43-.59-.52 0-1.04.2-1.43.59L10.3 9.45l-7.72 7.72c-.78.78-.78 2.05 0 2.83L4 21.41c.39.39.9.59 1.41.59.51 0 1.02-.2 1.41-.59l7.78-7.78 2.81-2.81c.8-.78.8-2.07 0-2.86zM5.41 20L4 18.59l7.72-7.72 1.47 1.35L5.41 20z\"/>\n",
              "  </svg>\n",
              "      </button>\n",
              "      \n",
              "  <style>\n",
              "    .colab-df-container {\n",
              "      display:flex;\n",
              "      flex-wrap:wrap;\n",
              "      gap: 12px;\n",
              "    }\n",
              "\n",
              "    .colab-df-convert {\n",
              "      background-color: #E8F0FE;\n",
              "      border: none;\n",
              "      border-radius: 50%;\n",
              "      cursor: pointer;\n",
              "      display: none;\n",
              "      fill: #1967D2;\n",
              "      height: 32px;\n",
              "      padding: 0 0 0 0;\n",
              "      width: 32px;\n",
              "    }\n",
              "\n",
              "    .colab-df-convert:hover {\n",
              "      background-color: #E2EBFA;\n",
              "      box-shadow: 0px 1px 2px rgba(60, 64, 67, 0.3), 0px 1px 3px 1px rgba(60, 64, 67, 0.15);\n",
              "      fill: #174EA6;\n",
              "    }\n",
              "\n",
              "    [theme=dark] .colab-df-convert {\n",
              "      background-color: #3B4455;\n",
              "      fill: #D2E3FC;\n",
              "    }\n",
              "\n",
              "    [theme=dark] .colab-df-convert:hover {\n",
              "      background-color: #434B5C;\n",
              "      box-shadow: 0px 1px 3px 1px rgba(0, 0, 0, 0.15);\n",
              "      filter: drop-shadow(0px 1px 2px rgba(0, 0, 0, 0.3));\n",
              "      fill: #FFFFFF;\n",
              "    }\n",
              "  </style>\n",
              "\n",
              "      <script>\n",
              "        const buttonEl =\n",
              "          document.querySelector('#df-b4d136f5-df1e-4e29-9ef5-ee876dd84a17 button.colab-df-convert');\n",
              "        buttonEl.style.display =\n",
              "          google.colab.kernel.accessAllowed ? 'block' : 'none';\n",
              "\n",
              "        async function convertToInteractive(key) {\n",
              "          const element = document.querySelector('#df-b4d136f5-df1e-4e29-9ef5-ee876dd84a17');\n",
              "          const dataTable =\n",
              "            await google.colab.kernel.invokeFunction('convertToInteractive',\n",
              "                                                     [key], {});\n",
              "          if (!dataTable) return;\n",
              "\n",
              "          const docLinkHtml = 'Like what you see? Visit the ' +\n",
              "            '<a target=\"_blank\" href=https://colab.research.google.com/notebooks/data_table.ipynb>data table notebook</a>'\n",
              "            + ' to learn more about interactive tables.';\n",
              "          element.innerHTML = '';\n",
              "          dataTable['output_type'] = 'display_data';\n",
              "          await google.colab.output.renderOutput(dataTable, element);\n",
              "          const docLink = document.createElement('div');\n",
              "          docLink.innerHTML = docLinkHtml;\n",
              "          element.appendChild(docLink);\n",
              "        }\n",
              "      </script>\n",
              "    </div>\n",
              "  </div>\n",
              "  "
            ]
          },
          "metadata": {},
          "execution_count": 142
        }
      ]
    },
    {
      "cell_type": "code",
      "source": [
        "avaliacao_df = pd.read_csv('ratings.csv', sep=',')"
      ],
      "metadata": {
        "id": "1PZ4mx-6rRNy"
      },
      "execution_count": 143,
      "outputs": []
    },
    {
      "cell_type": "code",
      "source": [
        "avaliacao_df.head()"
      ],
      "metadata": {
        "colab": {
          "base_uri": "https://localhost:8080/",
          "height": 206
        },
        "id": "aQFOZeBYruRe",
        "outputId": "c0e2ee0f-182e-4d3a-9f60-41c38965c11d"
      },
      "execution_count": 144,
      "outputs": [
        {
          "output_type": "execute_result",
          "data": {
            "text/plain": [
              "   book_id  user_id  rating\n",
              "0        1      314       5\n",
              "1        1      439       3\n",
              "2        1      588       5\n",
              "3        1     1169       4\n",
              "4        1     1185       4"
            ],
            "text/html": [
              "\n",
              "  <div id=\"df-64bda1b8-7f8d-4c74-b2a8-dc6d1b7297d8\">\n",
              "    <div class=\"colab-df-container\">\n",
              "      <div>\n",
              "<style scoped>\n",
              "    .dataframe tbody tr th:only-of-type {\n",
              "        vertical-align: middle;\n",
              "    }\n",
              "\n",
              "    .dataframe tbody tr th {\n",
              "        vertical-align: top;\n",
              "    }\n",
              "\n",
              "    .dataframe thead th {\n",
              "        text-align: right;\n",
              "    }\n",
              "</style>\n",
              "<table border=\"1\" class=\"dataframe\">\n",
              "  <thead>\n",
              "    <tr style=\"text-align: right;\">\n",
              "      <th></th>\n",
              "      <th>book_id</th>\n",
              "      <th>user_id</th>\n",
              "      <th>rating</th>\n",
              "    </tr>\n",
              "  </thead>\n",
              "  <tbody>\n",
              "    <tr>\n",
              "      <th>0</th>\n",
              "      <td>1</td>\n",
              "      <td>314</td>\n",
              "      <td>5</td>\n",
              "    </tr>\n",
              "    <tr>\n",
              "      <th>1</th>\n",
              "      <td>1</td>\n",
              "      <td>439</td>\n",
              "      <td>3</td>\n",
              "    </tr>\n",
              "    <tr>\n",
              "      <th>2</th>\n",
              "      <td>1</td>\n",
              "      <td>588</td>\n",
              "      <td>5</td>\n",
              "    </tr>\n",
              "    <tr>\n",
              "      <th>3</th>\n",
              "      <td>1</td>\n",
              "      <td>1169</td>\n",
              "      <td>4</td>\n",
              "    </tr>\n",
              "    <tr>\n",
              "      <th>4</th>\n",
              "      <td>1</td>\n",
              "      <td>1185</td>\n",
              "      <td>4</td>\n",
              "    </tr>\n",
              "  </tbody>\n",
              "</table>\n",
              "</div>\n",
              "      <button class=\"colab-df-convert\" onclick=\"convertToInteractive('df-64bda1b8-7f8d-4c74-b2a8-dc6d1b7297d8')\"\n",
              "              title=\"Convert this dataframe to an interactive table.\"\n",
              "              style=\"display:none;\">\n",
              "        \n",
              "  <svg xmlns=\"http://www.w3.org/2000/svg\" height=\"24px\"viewBox=\"0 0 24 24\"\n",
              "       width=\"24px\">\n",
              "    <path d=\"M0 0h24v24H0V0z\" fill=\"none\"/>\n",
              "    <path d=\"M18.56 5.44l.94 2.06.94-2.06 2.06-.94-2.06-.94-.94-2.06-.94 2.06-2.06.94zm-11 1L8.5 8.5l.94-2.06 2.06-.94-2.06-.94L8.5 2.5l-.94 2.06-2.06.94zm10 10l.94 2.06.94-2.06 2.06-.94-2.06-.94-.94-2.06-.94 2.06-2.06.94z\"/><path d=\"M17.41 7.96l-1.37-1.37c-.4-.4-.92-.59-1.43-.59-.52 0-1.04.2-1.43.59L10.3 9.45l-7.72 7.72c-.78.78-.78 2.05 0 2.83L4 21.41c.39.39.9.59 1.41.59.51 0 1.02-.2 1.41-.59l7.78-7.78 2.81-2.81c.8-.78.8-2.07 0-2.86zM5.41 20L4 18.59l7.72-7.72 1.47 1.35L5.41 20z\"/>\n",
              "  </svg>\n",
              "      </button>\n",
              "      \n",
              "  <style>\n",
              "    .colab-df-container {\n",
              "      display:flex;\n",
              "      flex-wrap:wrap;\n",
              "      gap: 12px;\n",
              "    }\n",
              "\n",
              "    .colab-df-convert {\n",
              "      background-color: #E8F0FE;\n",
              "      border: none;\n",
              "      border-radius: 50%;\n",
              "      cursor: pointer;\n",
              "      display: none;\n",
              "      fill: #1967D2;\n",
              "      height: 32px;\n",
              "      padding: 0 0 0 0;\n",
              "      width: 32px;\n",
              "    }\n",
              "\n",
              "    .colab-df-convert:hover {\n",
              "      background-color: #E2EBFA;\n",
              "      box-shadow: 0px 1px 2px rgba(60, 64, 67, 0.3), 0px 1px 3px 1px rgba(60, 64, 67, 0.15);\n",
              "      fill: #174EA6;\n",
              "    }\n",
              "\n",
              "    [theme=dark] .colab-df-convert {\n",
              "      background-color: #3B4455;\n",
              "      fill: #D2E3FC;\n",
              "    }\n",
              "\n",
              "    [theme=dark] .colab-df-convert:hover {\n",
              "      background-color: #434B5C;\n",
              "      box-shadow: 0px 1px 3px 1px rgba(0, 0, 0, 0.15);\n",
              "      filter: drop-shadow(0px 1px 2px rgba(0, 0, 0, 0.3));\n",
              "      fill: #FFFFFF;\n",
              "    }\n",
              "  </style>\n",
              "\n",
              "      <script>\n",
              "        const buttonEl =\n",
              "          document.querySelector('#df-64bda1b8-7f8d-4c74-b2a8-dc6d1b7297d8 button.colab-df-convert');\n",
              "        buttonEl.style.display =\n",
              "          google.colab.kernel.accessAllowed ? 'block' : 'none';\n",
              "\n",
              "        async function convertToInteractive(key) {\n",
              "          const element = document.querySelector('#df-64bda1b8-7f8d-4c74-b2a8-dc6d1b7297d8');\n",
              "          const dataTable =\n",
              "            await google.colab.kernel.invokeFunction('convertToInteractive',\n",
              "                                                     [key], {});\n",
              "          if (!dataTable) return;\n",
              "\n",
              "          const docLinkHtml = 'Like what you see? Visit the ' +\n",
              "            '<a target=\"_blank\" href=https://colab.research.google.com/notebooks/data_table.ipynb>data table notebook</a>'\n",
              "            + ' to learn more about interactive tables.';\n",
              "          element.innerHTML = '';\n",
              "          dataTable['output_type'] = 'display_data';\n",
              "          await google.colab.output.renderOutput(dataTable, element);\n",
              "          const docLink = document.createElement('div');\n",
              "          docLink.innerHTML = docLinkHtml;\n",
              "          element.appendChild(docLink);\n",
              "        }\n",
              "      </script>\n",
              "    </div>\n",
              "  </div>\n",
              "  "
            ]
          },
          "metadata": {},
          "execution_count": 144
        }
      ]
    },
    {
      "cell_type": "code",
      "source": [
        "livros_df.shape, avaliacao_df.shape"
      ],
      "metadata": {
        "colab": {
          "base_uri": "https://localhost:8080/",
          "height": 0
        },
        "id": "acViuURSpl35",
        "outputId": "509b5074-96c3-49a3-e933-f650c9cfe257"
      },
      "execution_count": 145,
      "outputs": [
        {
          "output_type": "execute_result",
          "data": {
            "text/plain": [
              "((10000, 23), (981756, 3))"
            ]
          },
          "metadata": {},
          "execution_count": 145
        }
      ]
    },
    {
      "cell_type": "code",
      "source": [
        "avaliacao_df.info()"
      ],
      "metadata": {
        "colab": {
          "base_uri": "https://localhost:8080/",
          "height": 0
        },
        "id": "eFHabWyVsDxw",
        "outputId": "237bfb2f-0d96-425c-e543-267733aaf878"
      },
      "execution_count": 146,
      "outputs": [
        {
          "output_type": "stream",
          "name": "stdout",
          "text": [
            "<class 'pandas.core.frame.DataFrame'>\n",
            "RangeIndex: 981756 entries, 0 to 981755\n",
            "Data columns (total 3 columns):\n",
            " #   Column   Non-Null Count   Dtype\n",
            "---  ------   --------------   -----\n",
            " 0   book_id  981756 non-null  int64\n",
            " 1   user_id  981756 non-null  int64\n",
            " 2   rating   981756 non-null  int64\n",
            "dtypes: int64(3)\n",
            "memory usage: 22.5 MB\n"
          ]
        }
      ]
    },
    {
      "cell_type": "code",
      "source": [
        "livros_df.info()"
      ],
      "metadata": {
        "colab": {
          "base_uri": "https://localhost:8080/",
          "height": 0
        },
        "id": "AAU1JeAUloL8",
        "outputId": "09f6f264-6728-47ba-90c0-2ac2274638b8"
      },
      "execution_count": 147,
      "outputs": [
        {
          "output_type": "stream",
          "name": "stdout",
          "text": [
            "<class 'pandas.core.frame.DataFrame'>\n",
            "RangeIndex: 10000 entries, 0 to 9999\n",
            "Data columns (total 23 columns):\n",
            " #   Column                     Non-Null Count  Dtype  \n",
            "---  ------                     --------------  -----  \n",
            " 0   id                         10000 non-null  int64  \n",
            " 1   book_id                    10000 non-null  int64  \n",
            " 2   best_book_id               10000 non-null  int64  \n",
            " 3   work_id                    10000 non-null  int64  \n",
            " 4   books_count                10000 non-null  int64  \n",
            " 5   isbn                       9300 non-null   object \n",
            " 6   isbn13                     9415 non-null   float64\n",
            " 7   authors                    10000 non-null  object \n",
            " 8   original_publication_year  9979 non-null   float64\n",
            " 9   original_title             9415 non-null   object \n",
            " 10  title                      10000 non-null  object \n",
            " 11  language_code              8916 non-null   object \n",
            " 12  average_rating             10000 non-null  float64\n",
            " 13  ratings_count              10000 non-null  int64  \n",
            " 14  work_ratings_count         10000 non-null  int64  \n",
            " 15  work_text_reviews_count    10000 non-null  int64  \n",
            " 16  ratings_1                  10000 non-null  int64  \n",
            " 17  ratings_2                  10000 non-null  int64  \n",
            " 18  ratings_3                  10000 non-null  int64  \n",
            " 19  ratings_4                  10000 non-null  int64  \n",
            " 20  ratings_5                  10000 non-null  int64  \n",
            " 21  image_url                  10000 non-null  object \n",
            " 22  small_image_url            10000 non-null  object \n",
            "dtypes: float64(3), int64(13), object(7)\n",
            "memory usage: 1.8+ MB\n"
          ]
        }
      ]
    },
    {
      "cell_type": "code",
      "source": [
        "livros_df.image_url.head(20)"
      ],
      "metadata": {
        "colab": {
          "base_uri": "https://localhost:8080/",
          "height": 0
        },
        "id": "ULUF9oKjtpTz",
        "outputId": "6ab7d1ee-679e-4410-e5ba-d2680b0ccb2a"
      },
      "execution_count": 148,
      "outputs": [
        {
          "output_type": "execute_result",
          "data": {
            "text/plain": [
              "0     https://images.gr-assets.com/books/1447303603m...\n",
              "1     https://images.gr-assets.com/books/1474154022m...\n",
              "2     https://images.gr-assets.com/books/1361039443m...\n",
              "3     https://images.gr-assets.com/books/1361975680m...\n",
              "4     https://images.gr-assets.com/books/1490528560m...\n",
              "5     https://images.gr-assets.com/books/1360206420m...\n",
              "6     https://images.gr-assets.com/books/1372847500m...\n",
              "7     https://images.gr-assets.com/books/1398034300m...\n",
              "8     https://images.gr-assets.com/books/1303390735m...\n",
              "9     https://images.gr-assets.com/books/1320399351m...\n",
              "10    https://images.gr-assets.com/books/1484565687m...\n",
              "11    https://images.gr-assets.com/books/1328559506m...\n",
              "12    https://images.gr-assets.com/books/1348990566m...\n",
              "13    https://images.gr-assets.com/books/1424037542m...\n",
              "14    https://images.gr-assets.com/books/1358276407m...\n",
              "15    https://images.gr-assets.com/books/1327868566m...\n",
              "16    https://images.gr-assets.com/books/1358273780m...\n",
              "17    https://images.gr-assets.com/books/1499277281m...\n",
              "18    https://images.gr-assets.com/books/1298411339m...\n",
              "19    https://images.gr-assets.com/books/1358275419m...\n",
              "Name: image_url, dtype: object"
            ]
          },
          "metadata": {},
          "execution_count": 148
        }
      ]
    },
    {
      "cell_type": "markdown",
      "source": [
        "## Pré Processamento dos Dados"
      ],
      "metadata": {
        "id": "OdUqXz4esqE2"
      }
    },
    {
      "cell_type": "code",
      "source": [
        "#Filtrando pegando somente as colunas necessárias\n",
        "livros_df = livros_df[['book_id', 'authors', 'original_title', 'ratings_count', 'image_url']]"
      ],
      "metadata": {
        "id": "Qb7llgxZswIW"
      },
      "execution_count": 149,
      "outputs": []
    },
    {
      "cell_type": "code",
      "source": [
        "#Renomeando as variaveis\n",
        "livros_df.rename(columns={'book_id': 'id_livro', 'authors': 'autor', 'original_title': 'titulo', 'ratings_count':'qtd_avaliacoes', 'image_url': 'url_capa'}, inplace = True)"
      ],
      "metadata": {
        "id": "DcNLe_1Bupfv"
      },
      "execution_count": 150,
      "outputs": []
    },
    {
      "cell_type": "code",
      "source": [
        "#Renomeando as variaveis\n",
        "avaliacao_df.rename(columns={'book_id': 'id_livro', 'user_id': 'usuario', 'rating': 'nota'}, inplace = True)"
      ],
      "metadata": {
        "id": "AScG3Np9uodQ"
      },
      "execution_count": 151,
      "outputs": []
    },
    {
      "cell_type": "code",
      "source": [
        "#Verificando as notas dadas aos livros\n",
        "sns.countplot(x=avaliacao_df.nota);"
      ],
      "metadata": {
        "colab": {
          "base_uri": "https://localhost:8080/",
          "height": 449
        },
        "id": "pf_idej9wBPC",
        "outputId": "fb19cb06-c6e1-4af0-bdc7-18c937b8f31c"
      },
      "execution_count": 152,
      "outputs": [
        {
          "output_type": "display_data",
          "data": {
            "text/plain": [
              "<Figure size 640x480 with 1 Axes>"
            ],
            "image/png": "[encoded data removed]"
          },
          "metadata": {}
        }
      ]
    },
    {
      "cell_type": "code",
      "source": [
        "#Vamos pegar apenas os livros que tiveram mais de 5000 avaliações\n",
        "livros_df = livros_df[livros_df.qtd_avaliacoes > 5000]"
      ],
      "metadata": {
        "id": "hC9Fvo8h1xqD"
      },
      "execution_count": 162,
      "outputs": []
    },
    {
      "cell_type": "code",
      "source": [
        "livros_df.shape"
      ],
      "metadata": {
        "colab": {
          "base_uri": "https://localhost:8080/",
          "height": 0
        },
        "id": "fu5nmwaR28ar",
        "outputId": "d8b69e03-04b4-428f-8e46-d416d951695d"
      },
      "execution_count": 163,
      "outputs": [
        {
          "output_type": "execute_result",
          "data": {
            "text/plain": [
              "(9983, 5)"
            ]
          },
          "metadata": {},
          "execution_count": 163
        }
      ]
    },
    {
      "cell_type": "code",
      "source": [
        "livros_df.isnull().sum()"
      ],
      "metadata": {
        "colab": {
          "base_uri": "https://localhost:8080/",
          "height": 0
        },
        "id": "oxCiSJ7F-eb3",
        "outputId": "abf2cb4a-7e87-4b04-e0bb-5b3f611c4a09"
      },
      "execution_count": 165,
      "outputs": [
        {
          "output_type": "execute_result",
          "data": {
            "text/plain": [
              "id_livro            0\n",
              "autor               0\n",
              "titulo            584\n",
              "qtd_avaliacoes      0\n",
              "url_capa            0\n",
              "dtype: int64"
            ]
          },
          "metadata": {},
          "execution_count": 165
        }
      ]
    },
    {
      "cell_type": "code",
      "source": [
        "#Iremos remover os valores nulos, já que não tem como substituí los\n",
        "livros_df.dropna(inplace=True)"
      ],
      "metadata": {
        "id": "xusEGRU2-iJM"
      },
      "execution_count": 166,
      "outputs": []
    },
    {
      "cell_type": "code",
      "source": [
        "livros_df.isnull().sum()"
      ],
      "metadata": {
        "colab": {
          "base_uri": "https://localhost:8080/",
          "height": 0
        },
        "id": "gRcflVNR-liu",
        "outputId": "de99543c-dc12-4fdc-8c45-ea84a0f38fd3"
      },
      "execution_count": 167,
      "outputs": [
        {
          "output_type": "execute_result",
          "data": {
            "text/plain": [
              "id_livro          0\n",
              "autor             0\n",
              "titulo            0\n",
              "qtd_avaliacoes    0\n",
              "url_capa          0\n",
              "dtype: int64"
            ]
          },
          "metadata": {},
          "execution_count": 167
        }
      ]
    },
    {
      "cell_type": "code",
      "source": [
        "livros_df.shape"
      ],
      "metadata": {
        "colab": {
          "base_uri": "https://localhost:8080/",
          "height": 0
        },
        "id": "JQu4hOGZ-oGa",
        "outputId": "aadf02b7-0c6b-4711-ee3f-32be1cceb6b9"
      },
      "execution_count": 168,
      "outputs": [
        {
          "output_type": "execute_result",
          "data": {
            "text/plain": [
              "(9399, 5)"
            ]
          },
          "metadata": {},
          "execution_count": 168
        }
      ]
    },
    {
      "cell_type": "code",
      "source": [
        "avaliacao_df.isnull().sum()"
      ],
      "metadata": {
        "colab": {
          "base_uri": "https://localhost:8080/",
          "height": 0
        },
        "id": "0m6L7uEM-3J_",
        "outputId": "6c66d43a-7c0e-4468-be81-1481d7068e5e"
      },
      "execution_count": 173,
      "outputs": [
        {
          "output_type": "execute_result",
          "data": {
            "text/plain": [
              "id_livro    0\n",
              "usuario     0\n",
              "nota        0\n",
              "dtype: int64"
            ]
          },
          "metadata": {},
          "execution_count": 173
        }
      ]
    },
    {
      "cell_type": "code",
      "source": [
        "#Unindo os 2 Dataframes\n",
        "avaliacao_completo = avaliacao_df.merge(livros_df, on = 'id_livro', how='inner')"
      ],
      "metadata": {
        "id": "EstvtDs27onC"
      },
      "execution_count": 169,
      "outputs": []
    },
    {
      "cell_type": "code",
      "source": [
        "avaliacao_completo.head(10)"
      ],
      "metadata": {
        "colab": {
          "base_uri": "https://localhost:8080/",
          "height": 363
        },
        "id": "6z7cHhfT8ADm",
        "outputId": "db6914f9-8274-42dd-cd96-6590947ade33"
      },
      "execution_count": 179,
      "outputs": [
        {
          "output_type": "execute_result",
          "data": {
            "text/plain": [
              "   id_livro  usuario  nota                        autor  \\\n",
              "0         1      314     5  J.K. Rowling, Mary GrandPré   \n",
              "1         1      439     3  J.K. Rowling, Mary GrandPré   \n",
              "2         1      588     5  J.K. Rowling, Mary GrandPré   \n",
              "3         1     1169     4  J.K. Rowling, Mary GrandPré   \n",
              "4         1     1185     4  J.K. Rowling, Mary GrandPré   \n",
              "5         1     2077     4  J.K. Rowling, Mary GrandPré   \n",
              "6         1     2487     4  J.K. Rowling, Mary GrandPré   \n",
              "7         1     2900     5  J.K. Rowling, Mary GrandPré   \n",
              "8         1     3662     4  J.K. Rowling, Mary GrandPré   \n",
              "9         1     3922     5  J.K. Rowling, Mary GrandPré   \n",
              "\n",
              "                                   titulo  qtd_avaliacoes  \\\n",
              "0  Harry Potter and the Half-Blood Prince         1678823   \n",
              "1  Harry Potter and the Half-Blood Prince         1678823   \n",
              "2  Harry Potter and the Half-Blood Prince         1678823   \n",
              "3  Harry Potter and the Half-Blood Prince         1678823   \n",
              "4  Harry Potter and the Half-Blood Prince         1678823   \n",
              "5  Harry Potter and the Half-Blood Prince         1678823   \n",
              "6  Harry Potter and the Half-Blood Prince         1678823   \n",
              "7  Harry Potter and the Half-Blood Prince         1678823   \n",
              "8  Harry Potter and the Half-Blood Prince         1678823   \n",
              "9  Harry Potter and the Half-Blood Prince         1678823   \n",
              "\n",
              "                                            url_capa  \n",
              "0  https://images.gr-assets.com/books/1361039191m...  \n",
              "1  https://images.gr-assets.com/books/1361039191m...  \n",
              "2  https://images.gr-assets.com/books/1361039191m...  \n",
              "3  https://images.gr-assets.com/books/1361039191m...  \n",
              "4  https://images.gr-assets.com/books/1361039191m...  \n",
              "5  https://images.gr-assets.com/books/1361039191m...  \n",
              "6  https://images.gr-assets.com/books/1361039191m...  \n",
              "7  https://images.gr-assets.com/books/1361039191m...  \n",
              "8  https://images.gr-assets.com/books/1361039191m...  \n",
              "9  https://images.gr-assets.com/books/1361039191m...  "
            ],
            "text/html": [
              "\n",
              "  <div id=\"df-0c45cbb4-a9eb-48ae-97c0-4d9cf93c6c43\">\n",
              "    <div class=\"colab-df-container\">\n",
              "      <div>\n",
              "<style scoped>\n",
              "    .dataframe tbody tr th:only-of-type {\n",
              "        vertical-align: middle;\n",
              "    }\n",
              "\n",
              "    .dataframe tbody tr th {\n",
              "        vertical-align: top;\n",
              "    }\n",
              "\n",
              "    .dataframe thead th {\n",
              "        text-align: right;\n",
              "    }\n",
              "</style>\n",
              "<table border=\"1\" class=\"dataframe\">\n",
              "  <thead>\n",
              "    <tr style=\"text-align: right;\">\n",
              "      <th></th>\n",
              "      <th>id_livro</th>\n",
              "      <th>usuario</th>\n",
              "      <th>nota</th>\n",
              "      <th>autor</th>\n",
              "      <th>titulo</th>\n",
              "      <th>qtd_avaliacoes</th>\n",
              "      <th>url_capa</th>\n",
              "    </tr>\n",
              "  </thead>\n",
              "  <tbody>\n",
              "    <tr>\n",
              "      <th>0</th>\n",
              "      <td>1</td>\n",
              "      <td>314</td>\n",
              "      <td>5</td>\n",
              "      <td>J.K. Rowling, Mary GrandPré</td>\n",
              "      <td>Harry Potter and the Half-Blood Prince</td>\n",
              "      <td>1678823</td>\n",
              "      <td>https://images.gr-assets.com/books/1361039191m...</td>\n",
              "    </tr>\n",
              "    <tr>\n",
              "      <th>1</th>\n",
              "      <td>1</td>\n",
              "      <td>439</td>\n",
              "      <td>3</td>\n",
              "      <td>J.K. Rowling, Mary GrandPré</td>\n",
              "      <td>Harry Potter and the Half-Blood Prince</td>\n",
              "      <td>1678823</td>\n",
              "      <td>https://images.gr-assets.com/books/1361039191m...</td>\n",
              "    </tr>\n",
              "    <tr>\n",
              "      <th>2</th>\n",
              "      <td>1</td>\n",
              "      <td>588</td>\n",
              "      <td>5</td>\n",
              "      <td>J.K. Rowling, Mary GrandPré</td>\n",
              "      <td>Harry Potter and the Half-Blood Prince</td>\n",
              "      <td>1678823</td>\n",
              "      <td>https://images.gr-assets.com/books/1361039191m...</td>\n",
              "    </tr>\n",
              "    <tr>\n",
              "      <th>3</th>\n",
              "      <td>1</td>\n",
              "      <td>1169</td>\n",
              "      <td>4</td>\n",
              "      <td>J.K. Rowling, Mary GrandPré</td>\n",
              "      <td>Harry Potter and the Half-Blood Prince</td>\n",
              "      <td>1678823</td>\n",
              "      <td>https://images.gr-assets.com/books/1361039191m...</td>\n",
              "    </tr>\n",
              "    <tr>\n",
              "      <th>4</th>\n",
              "      <td>1</td>\n",
              "      <td>1185</td>\n",
              "      <td>4</td>\n",
              "      <td>J.K. Rowling, Mary GrandPré</td>\n",
              "      <td>Harry Potter and the Half-Blood Prince</td>\n",
              "      <td>1678823</td>\n",
              "      <td>https://images.gr-assets.com/books/1361039191m...</td>\n",
              "    </tr>\n",
              "    <tr>\n",
              "      <th>5</th>\n",
              "      <td>1</td>\n",
              "      <td>2077</td>\n",
              "      <td>4</td>\n",
              "      <td>J.K. Rowling, Mary GrandPré</td>\n",
              "      <td>Harry Potter and the Half-Blood Prince</td>\n",
              "      <td>1678823</td>\n",
              "      <td>https://images.gr-assets.com/books/1361039191m...</td>\n",
              "    </tr>\n",
              "    <tr>\n",
              "      <th>6</th>\n",
              "      <td>1</td>\n",
              "      <td>2487</td>\n",
              "      <td>4</td>\n",
              "      <td>J.K. Rowling, Mary GrandPré</td>\n",
              "      <td>Harry Potter and the Half-Blood Prince</td>\n",
              "      <td>1678823</td>\n",
              "      <td>https://images.gr-assets.com/books/1361039191m...</td>\n",
              "    </tr>\n",
              "    <tr>\n",
              "      <th>7</th>\n",
              "      <td>1</td>\n",
              "      <td>2900</td>\n",
              "      <td>5</td>\n",
              "      <td>J.K. Rowling, Mary GrandPré</td>\n",
              "      <td>Harry Potter and the Half-Blood Prince</td>\n",
              "      <td>1678823</td>\n",
              "      <td>https://images.gr-assets.com/books/1361039191m...</td>\n",
              "    </tr>\n",
              "    <tr>\n",
              "      <th>8</th>\n",
              "      <td>1</td>\n",
              "      <td>3662</td>\n",
              "      <td>4</td>\n",
              "      <td>J.K. Rowling, Mary GrandPré</td>\n",
              "      <td>Harry Potter and the Half-Blood Prince</td>\n",
              "      <td>1678823</td>\n",
              "      <td>https://images.gr-assets.com/books/1361039191m...</td>\n",
              "    </tr>\n",
              "    <tr>\n",
              "      <th>9</th>\n",
              "      <td>1</td>\n",
              "      <td>3922</td>\n",
              "      <td>5</td>\n",
              "      <td>J.K. Rowling, Mary GrandPré</td>\n",
              "      <td>Harry Potter and the Half-Blood Prince</td>\n",
              "      <td>1678823</td>\n",
              "      <td>https://images.gr-assets.com/books/1361039191m...</td>\n",
              "    </tr>\n",
              "  </tbody>\n",
              "</table>\n",
              "</div>\n",
              "      <button class=\"colab-df-convert\" onclick=\"convertToInteractive('df-0c45cbb4-a9eb-48ae-97c0-4d9cf93c6c43')\"\n",
              "              title=\"Convert this dataframe to an interactive table.\"\n",
              "              style=\"display:none;\">\n",
              "        \n",
              "  <svg xmlns=\"http://www.w3.org/2000/svg\" height=\"24px\"viewBox=\"0 0 24 24\"\n",
              "       width=\"24px\">\n",
              "    <path d=\"M0 0h24v24H0V0z\" fill=\"none\"/>\n",
              "    <path d=\"M18.56 5.44l.94 2.06.94-2.06 2.06-.94-2.06-.94-.94-2.06-.94 2.06-2.06.94zm-11 1L8.5 8.5l.94-2.06 2.06-.94-2.06-.94L8.5 2.5l-.94 2.06-2.06.94zm10 10l.94 2.06.94-2.06 2.06-.94-2.06-.94-.94-2.06-.94 2.06-2.06.94z\"/><path d=\"M17.41 7.96l-1.37-1.37c-.4-.4-.92-.59-1.43-.59-.52 0-1.04.2-1.43.59L10.3 9.45l-7.72 7.72c-.78.78-.78 2.05 0 2.83L4 21.41c.39.39.9.59 1.41.59.51 0 1.02-.2 1.41-.59l7.78-7.78 2.81-2.81c.8-.78.8-2.07 0-2.86zM5.41 20L4 18.59l7.72-7.72 1.47 1.35L5.41 20z\"/>\n",
              "  </svg>\n",
              "      </button>\n",
              "      \n",
              "  <style>\n",
              "    .colab-df-container {\n",
              "      display:flex;\n",
              "      flex-wrap:wrap;\n",
              "      gap: 12px;\n",
              "    }\n",
              "\n",
              "    .colab-df-convert {\n",
              "      background-color: #E8F0FE;\n",
              "      border: none;\n",
              "      border-radius: 50%;\n",
              "      cursor: pointer;\n",
              "      display: none;\n",
              "      fill: #1967D2;\n",
              "      height: 32px;\n",
              "      padding: 0 0 0 0;\n",
              "      width: 32px;\n",
              "    }\n",
              "\n",
              "    .colab-df-convert:hover {\n",
              "      background-color: #E2EBFA;\n",
              "      box-shadow: 0px 1px 2px rgba(60, 64, 67, 0.3), 0px 1px 3px 1px rgba(60, 64, 67, 0.15);\n",
              "      fill: #174EA6;\n",
              "    }\n",
              "\n",
              "    [theme=dark] .colab-df-convert {\n",
              "      background-color: #3B4455;\n",
              "      fill: #D2E3FC;\n",
              "    }\n",
              "\n",
              "    [theme=dark] .colab-df-convert:hover {\n",
              "      background-color: #434B5C;\n",
              "      box-shadow: 0px 1px 3px 1px rgba(0, 0, 0, 0.15);\n",
              "      filter: drop-shadow(0px 1px 2px rgba(0, 0, 0, 0.3));\n",
              "      fill: #FFFFFF;\n",
              "    }\n",
              "  </style>\n",
              "\n",
              "      <script>\n",
              "        const buttonEl =\n",
              "          document.querySelector('#df-0c45cbb4-a9eb-48ae-97c0-4d9cf93c6c43 button.colab-df-convert');\n",
              "        buttonEl.style.display =\n",
              "          google.colab.kernel.accessAllowed ? 'block' : 'none';\n",
              "\n",
              "        async function convertToInteractive(key) {\n",
              "          const element = document.querySelector('#df-0c45cbb4-a9eb-48ae-97c0-4d9cf93c6c43');\n",
              "          const dataTable =\n",
              "            await google.colab.kernel.invokeFunction('convertToInteractive',\n",
              "                                                     [key], {});\n",
              "          if (!dataTable) return;\n",
              "\n",
              "          const docLinkHtml = 'Like what you see? Visit the ' +\n",
              "            '<a target=\"_blank\" href=https://colab.research.google.com/notebooks/data_table.ipynb>data table notebook</a>'\n",
              "            + ' to learn more about interactive tables.';\n",
              "          element.innerHTML = '';\n",
              "          dataTable['output_type'] = 'display_data';\n",
              "          await google.colab.output.renderOutput(dataTable, element);\n",
              "          const docLink = document.createElement('div');\n",
              "          docLink.innerHTML = docLinkHtml;\n",
              "          element.appendChild(docLink);\n",
              "        }\n",
              "      </script>\n",
              "    </div>\n",
              "  </div>\n",
              "  "
            ]
          },
          "metadata": {},
          "execution_count": 179
        }
      ]
    },
    {
      "cell_type": "code",
      "source": [
        "avaliacao_completo.shape"
      ],
      "metadata": {
        "colab": {
          "base_uri": "https://localhost:8080/",
          "height": 0
        },
        "id": "pwM0r5rq8MzU",
        "outputId": "f762c7e9-f71a-48e2-9b24-c1dad4bf1a24"
      },
      "execution_count": 171,
      "outputs": [
        {
          "output_type": "execute_result",
          "data": {
            "text/plain": [
              "(77920, 7)"
            ]
          },
          "metadata": {},
          "execution_count": 171
        }
      ]
    },
    {
      "cell_type": "code",
      "source": [
        "#Verificando se há valores nulos\n",
        "avaliacao_completo.isnull().sum()"
      ],
      "metadata": {
        "colab": {
          "base_uri": "https://localhost:8080/",
          "height": 0
        },
        "id": "VnHbkJy8zCt8",
        "outputId": "2fbb7d40-33b5-4622-e90c-ad03b801d932"
      },
      "execution_count": 172,
      "outputs": [
        {
          "output_type": "execute_result",
          "data": {
            "text/plain": [
              "id_livro          0\n",
              "usuario           0\n",
              "nota              0\n",
              "autor             0\n",
              "titulo            0\n",
              "qtd_avaliacoes    0\n",
              "url_capa          0\n",
              "dtype: int64"
            ]
          },
          "metadata": {},
          "execution_count": 172
        }
      ]
    },
    {
      "cell_type": "code",
      "source": [
        "# Vamos descartar os valores duplicados, para que não tenha problemas de termos o mesmo usuário avaliando o mesmo filme\n",
        "# diversas vezes\n",
        "avaliacao_completo.drop_duplicates(['usuario','titulo'], inplace = True)"
      ],
      "metadata": {
        "id": "4iKRcA6s3bPN"
      },
      "execution_count": 177,
      "outputs": []
    },
    {
      "cell_type": "code",
      "source": [
        "avaliacao_completo.shape"
      ],
      "metadata": {
        "colab": {
          "base_uri": "https://localhost:8080/",
          "height": 0
        },
        "id": "NB0OHjITAHiD",
        "outputId": "fbdcc94b-a44e-445d-e200-1b181bffc89a"
      },
      "execution_count": 178,
      "outputs": [
        {
          "output_type": "execute_result",
          "data": {
            "text/plain": [
              "(77754, 7)"
            ]
          },
          "metadata": {},
          "execution_count": 178
        }
      ]
    },
    {
      "cell_type": "code",
      "source": [
        "#Removendo a variável id_livro, pois ela não será mais necessária\n",
        "del avaliacao_completo['id_livro']"
      ],
      "metadata": {
        "id": "ihD0i3MuANrc"
      },
      "execution_count": 180,
      "outputs": []
    },
    {
      "cell_type": "code",
      "source": [
        "avaliacao_completo.head()"
      ],
      "metadata": {
        "colab": {
          "base_uri": "https://localhost:8080/",
          "height": 206
        },
        "id": "Ri0rNIRoAk4Q",
        "outputId": "d8542ded-beb9-41a1-d805-0fb29bec517c"
      },
      "execution_count": 181,
      "outputs": [
        {
          "output_type": "execute_result",
          "data": {
            "text/plain": [
              "   usuario  nota                        autor  \\\n",
              "0      314     5  J.K. Rowling, Mary GrandPré   \n",
              "1      439     3  J.K. Rowling, Mary GrandPré   \n",
              "2      588     5  J.K. Rowling, Mary GrandPré   \n",
              "3     1169     4  J.K. Rowling, Mary GrandPré   \n",
              "4     1185     4  J.K. Rowling, Mary GrandPré   \n",
              "\n",
              "                                   titulo  qtd_avaliacoes  \\\n",
              "0  Harry Potter and the Half-Blood Prince         1678823   \n",
              "1  Harry Potter and the Half-Blood Prince         1678823   \n",
              "2  Harry Potter and the Half-Blood Prince         1678823   \n",
              "3  Harry Potter and the Half-Blood Prince         1678823   \n",
              "4  Harry Potter and the Half-Blood Prince         1678823   \n",
              "\n",
              "                                            url_capa  \n",
              "0  https://images.gr-assets.com/books/1361039191m...  \n",
              "1  https://images.gr-assets.com/books/1361039191m...  \n",
              "2  https://images.gr-assets.com/books/1361039191m...  \n",
              "3  https://images.gr-assets.com/books/1361039191m...  \n",
              "4  https://images.gr-assets.com/books/1361039191m...  "
            ],
            "text/html": [
              "\n",
              "  <div id=\"df-6c8f7716-54e9-4e2c-886f-2c9d9321e760\">\n",
              "    <div class=\"colab-df-container\">\n",
              "      <div>\n",
              "<style scoped>\n",
              "    .dataframe tbody tr th:only-of-type {\n",
              "        vertical-align: middle;\n",
              "    }\n",
              "\n",
              "    .dataframe tbody tr th {\n",
              "        vertical-align: top;\n",
              "    }\n",
              "\n",
              "    .dataframe thead th {\n",
              "        text-align: right;\n",
              "    }\n",
              "</style>\n",
              "<table border=\"1\" class=\"dataframe\">\n",
              "  <thead>\n",
              "    <tr style=\"text-align: right;\">\n",
              "      <th></th>\n",
              "      <th>usuario</th>\n",
              "      <th>nota</th>\n",
              "      <th>autor</th>\n",
              "      <th>titulo</th>\n",
              "      <th>qtd_avaliacoes</th>\n",
              "      <th>url_capa</th>\n",
              "    </tr>\n",
              "  </thead>\n",
              "  <tbody>\n",
              "    <tr>\n",
              "      <th>0</th>\n",
              "      <td>314</td>\n",
              "      <td>5</td>\n",
              "      <td>J.K. Rowling, Mary GrandPré</td>\n",
              "      <td>Harry Potter and the Half-Blood Prince</td>\n",
              "      <td>1678823</td>\n",
              "      <td>https://images.gr-assets.com/books/1361039191m...</td>\n",
              "    </tr>\n",
              "    <tr>\n",
              "      <th>1</th>\n",
              "      <td>439</td>\n",
              "      <td>3</td>\n",
              "      <td>J.K. Rowling, Mary GrandPré</td>\n",
              "      <td>Harry Potter and the Half-Blood Prince</td>\n",
              "      <td>1678823</td>\n",
              "      <td>https://images.gr-assets.com/books/1361039191m...</td>\n",
              "    </tr>\n",
              "    <tr>\n",
              "      <th>2</th>\n",
              "      <td>588</td>\n",
              "      <td>5</td>\n",
              "      <td>J.K. Rowling, Mary GrandPré</td>\n",
              "      <td>Harry Potter and the Half-Blood Prince</td>\n",
              "      <td>1678823</td>\n",
              "      <td>https://images.gr-assets.com/books/1361039191m...</td>\n",
              "    </tr>\n",
              "    <tr>\n",
              "      <th>3</th>\n",
              "      <td>1169</td>\n",
              "      <td>4</td>\n",
              "      <td>J.K. Rowling, Mary GrandPré</td>\n",
              "      <td>Harry Potter and the Half-Blood Prince</td>\n",
              "      <td>1678823</td>\n",
              "      <td>https://images.gr-assets.com/books/1361039191m...</td>\n",
              "    </tr>\n",
              "    <tr>\n",
              "      <th>4</th>\n",
              "      <td>1185</td>\n",
              "      <td>4</td>\n",
              "      <td>J.K. Rowling, Mary GrandPré</td>\n",
              "      <td>Harry Potter and the Half-Blood Prince</td>\n",
              "      <td>1678823</td>\n",
              "      <td>https://images.gr-assets.com/books/1361039191m...</td>\n",
              "    </tr>\n",
              "  </tbody>\n",
              "</table>\n",
              "</div>\n",
              "      <button class=\"colab-df-convert\" onclick=\"convertToInteractive('df-6c8f7716-54e9-4e2c-886f-2c9d9321e760')\"\n",
              "              title=\"Convert this dataframe to an interactive table.\"\n",
              "              style=\"display:none;\">\n",
              "        \n",
              "  <svg xmlns=\"http://www.w3.org/2000/svg\" height=\"24px\"viewBox=\"0 0 24 24\"\n",
              "       width=\"24px\">\n",
              "    <path d=\"M0 0h24v24H0V0z\" fill=\"none\"/>\n",
              "    <path d=\"M18.56 5.44l.94 2.06.94-2.06 2.06-.94-2.06-.94-.94-2.06-.94 2.06-2.06.94zm-11 1L8.5 8.5l.94-2.06 2.06-.94-2.06-.94L8.5 2.5l-.94 2.06-2.06.94zm10 10l.94 2.06.94-2.06 2.06-.94-2.06-.94-.94-2.06-.94 2.06-2.06.94z\"/><path d=\"M17.41 7.96l-1.37-1.37c-.4-.4-.92-.59-1.43-.59-.52 0-1.04.2-1.43.59L10.3 9.45l-7.72 7.72c-.78.78-.78 2.05 0 2.83L4 21.41c.39.39.9.59 1.41.59.51 0 1.02-.2 1.41-.59l7.78-7.78 2.81-2.81c.8-.78.8-2.07 0-2.86zM5.41 20L4 18.59l7.72-7.72 1.47 1.35L5.41 20z\"/>\n",
              "  </svg>\n",
              "      </button>\n",
              "      \n",
              "  <style>\n",
              "    .colab-df-container {\n",
              "      display:flex;\n",
              "      flex-wrap:wrap;\n",
              "      gap: 12px;\n",
              "    }\n",
              "\n",
              "    .colab-df-convert {\n",
              "      background-color: #E8F0FE;\n",
              "      border: none;\n",
              "      border-radius: 50%;\n",
              "      cursor: pointer;\n",
              "      display: none;\n",
              "      fill: #1967D2;\n",
              "      height: 32px;\n",
              "      padding: 0 0 0 0;\n",
              "      width: 32px;\n",
              "    }\n",
              "\n",
              "    .colab-df-convert:hover {\n",
              "      background-color: #E2EBFA;\n",
              "      box-shadow: 0px 1px 2px rgba(60, 64, 67, 0.3), 0px 1px 3px 1px rgba(60, 64, 67, 0.15);\n",
              "      fill: #174EA6;\n",
              "    }\n",
              "\n",
              "    [theme=dark] .colab-df-convert {\n",
              "      background-color: #3B4455;\n",
              "      fill: #D2E3FC;\n",
              "    }\n",
              "\n",
              "    [theme=dark] .colab-df-convert:hover {\n",
              "      background-color: #434B5C;\n",
              "      box-shadow: 0px 1px 3px 1px rgba(0, 0, 0, 0.15);\n",
              "      filter: drop-shadow(0px 1px 2px rgba(0, 0, 0, 0.3));\n",
              "      fill: #FFFFFF;\n",
              "    }\n",
              "  </style>\n",
              "\n",
              "      <script>\n",
              "        const buttonEl =\n",
              "          document.querySelector('#df-6c8f7716-54e9-4e2c-886f-2c9d9321e760 button.colab-df-convert');\n",
              "        buttonEl.style.display =\n",
              "          google.colab.kernel.accessAllowed ? 'block' : 'none';\n",
              "\n",
              "        async function convertToInteractive(key) {\n",
              "          const element = document.querySelector('#df-6c8f7716-54e9-4e2c-886f-2c9d9321e760');\n",
              "          const dataTable =\n",
              "            await google.colab.kernel.invokeFunction('convertToInteractive',\n",
              "                                                     [key], {});\n",
              "          if (!dataTable) return;\n",
              "\n",
              "          const docLinkHtml = 'Like what you see? Visit the ' +\n",
              "            '<a target=\"_blank\" href=https://colab.research.google.com/notebooks/data_table.ipynb>data table notebook</a>'\n",
              "            + ' to learn more about interactive tables.';\n",
              "          element.innerHTML = '';\n",
              "          dataTable['output_type'] = 'display_data';\n",
              "          await google.colab.output.renderOutput(dataTable, element);\n",
              "          const docLink = document.createElement('div');\n",
              "          docLink.innerHTML = docLinkHtml;\n",
              "          element.appendChild(docLink);\n",
              "        }\n",
              "      </script>\n",
              "    </div>\n",
              "  </div>\n",
              "  "
            ]
          },
          "metadata": {},
          "execution_count": 181
        }
      ]
    },
    {
      "cell_type": "markdown",
      "source": [
        "## Criando o Modelo: Distancia de Cossenos"
      ],
      "metadata": {
        "id": "tu_HreZMA7Qu"
      }
    },
    {
      "cell_type": "markdown",
      "source": [
        "A distância de cosseno é uma medida de quão semelhantes são dois vetores. Ela é frequentemente usada em sistemas de recomendação para calcular a similaridade entre dois usuários ou itens. O cosseno do ângulo entre dois vetores é usado para calcular a distância de cosseno. O valor do cosseno e o ângulo aumentam com a proximidade dos vetores.\n",
        "\n",
        "\n",
        "Precisamos lidar com os dados para que cada linha seja gravada e as colunas contenham as informações de cada usuário. Para fazer isso, precisamos fazer um Pivot no dataframe. Vamos usar o scikit-learn para fazer esse calculo para nós, depois de obter os vetores corretos, ou seja, um vetor para cada livro.\n"
      ],
      "metadata": {
        "id": "cigjUdhYBXab"
      }
    },
    {
      "cell_type": "code",
      "source": [
        "livro_usuario = avaliacao_completo.pivot_table(index='titulo', columns='usuario', values='nota').fillna(0)"
      ],
      "metadata": {
        "id": "iUxfLv_QCt1V"
      },
      "execution_count": 182,
      "outputs": []
    },
    {
      "cell_type": "code",
      "source": [
        "livro_usuario.head()"
      ],
      "metadata": {
        "colab": {
          "base_uri": "https://localhost:8080/",
          "height": 267
        },
        "id": "wr5Ygg0KDMQK",
        "outputId": "9183af1e-dd22-4671-d379-7e894ca9ff25"
      },
      "execution_count": 183,
      "outputs": [
        {
          "output_type": "execute_result",
          "data": {
            "text/plain": [
              "usuario                                      2      3      4      7      \\\n",
              "titulo                                                                    \n",
              "                                               0.0    0.0    0.0    0.0   \n",
              " Animal Farm & 1984                            0.0    0.0    0.0    0.0   \n",
              " Carter Beats the Devil                        0.0    0.0    0.0    0.0   \n",
              " The Fellowship of the Ring                    0.0    0.0    0.0    0.0   \n",
              " めくらやなぎと、眠る女 [Mekurayanagi to, nemuru onna]    0.0    0.0    0.0    0.0   \n",
              "\n",
              "usuario                                      9      10     11     14     \\\n",
              "titulo                                                                    \n",
              "                                               0.0    0.0    0.0    0.0   \n",
              " Animal Farm & 1984                            0.0    0.0    0.0    0.0   \n",
              " Carter Beats the Devil                        0.0    0.0    0.0    0.0   \n",
              " The Fellowship of the Ring                    0.0    0.0    0.0    0.0   \n",
              " めくらやなぎと、眠る女 [Mekurayanagi to, nemuru onna]    0.0    0.0    0.0    0.0   \n",
              "\n",
              "usuario                                      15     20     ...  53404  53406  \\\n",
              "titulo                                                     ...                 \n",
              "                                               0.0    0.0  ...    0.0    0.0   \n",
              " Animal Farm & 1984                            0.0    0.0  ...    0.0    0.0   \n",
              " Carter Beats the Devil                        0.0    0.0  ...    0.0    0.0   \n",
              " The Fellowship of the Ring                    0.0    0.0  ...    0.0    0.0   \n",
              " めくらやなぎと、眠る女 [Mekurayanagi to, nemuru onna]    0.0    0.0  ...    0.0    0.0   \n",
              "\n",
              "usuario                                      53408  53409  53416  53419  \\\n",
              "titulo                                                                    \n",
              "                                               0.0    0.0    0.0    0.0   \n",
              " Animal Farm & 1984                            0.0    0.0    0.0    0.0   \n",
              " Carter Beats the Devil                        0.0    0.0    0.0    0.0   \n",
              " The Fellowship of the Ring                    0.0    0.0    0.0    0.0   \n",
              " めくらやなぎと、眠る女 [Mekurayanagi to, nemuru onna]    0.0    0.0    0.0    0.0   \n",
              "\n",
              "usuario                                      53420  53422  53423  53424  \n",
              "titulo                                                                   \n",
              "                                               0.0    0.0    0.0    0.0  \n",
              " Animal Farm & 1984                            0.0    0.0    0.0    0.0  \n",
              " Carter Beats the Devil                        0.0    0.0    0.0    0.0  \n",
              " The Fellowship of the Ring                    0.0    0.0    0.0    0.0  \n",
              " めくらやなぎと、眠る女 [Mekurayanagi to, nemuru onna]    0.0    0.0    0.0    0.0  \n",
              "\n",
              "[5 rows x 28554 columns]"
            ],
            "text/html": [
              "\n",
              "  <div id=\"df-16165ff6-273f-4523-ad5d-63473bb82f39\">\n",
              "    <div class=\"colab-df-container\">\n",
              "      <div>\n",
              "<style scoped>\n",
              "    .dataframe tbody tr th:only-of-type {\n",
              "        vertical-align: middle;\n",
              "    }\n",
              "\n",
              "    .dataframe tbody tr th {\n",
              "        vertical-align: top;\n",
              "    }\n",
              "\n",
              "    .dataframe thead th {\n",
              "        text-align: right;\n",
              "    }\n",
              "</style>\n",
              "<table border=\"1\" class=\"dataframe\">\n",
              "  <thead>\n",
              "    <tr style=\"text-align: right;\">\n",
              "      <th>usuario</th>\n",
              "      <th>2</th>\n",
              "      <th>3</th>\n",
              "      <th>4</th>\n",
              "      <th>7</th>\n",
              "      <th>9</th>\n",
              "      <th>10</th>\n",
              "      <th>11</th>\n",
              "      <th>14</th>\n",
              "      <th>15</th>\n",
              "      <th>20</th>\n",
              "      <th>...</th>\n",
              "      <th>53404</th>\n",
              "      <th>53406</th>\n",
              "      <th>53408</th>\n",
              "      <th>53409</th>\n",
              "      <th>53416</th>\n",
              "      <th>53419</th>\n",
              "      <th>53420</th>\n",
              "      <th>53422</th>\n",
              "      <th>53423</th>\n",
              "      <th>53424</th>\n",
              "    </tr>\n",
              "    <tr>\n",
              "      <th>titulo</th>\n",
              "      <th></th>\n",
              "      <th></th>\n",
              "      <th></th>\n",
              "      <th></th>\n",
              "      <th></th>\n",
              "      <th></th>\n",
              "      <th></th>\n",
              "      <th></th>\n",
              "      <th></th>\n",
              "      <th></th>\n",
              "      <th></th>\n",
              "      <th></th>\n",
              "      <th></th>\n",
              "      <th></th>\n",
              "      <th></th>\n",
              "      <th></th>\n",
              "      <th></th>\n",
              "      <th></th>\n",
              "      <th></th>\n",
              "      <th></th>\n",
              "      <th></th>\n",
              "    </tr>\n",
              "  </thead>\n",
              "  <tbody>\n",
              "    <tr>\n",
              "      <th></th>\n",
              "      <td>0.0</td>\n",
              "      <td>0.0</td>\n",
              "      <td>0.0</td>\n",
              "      <td>0.0</td>\n",
              "      <td>0.0</td>\n",
              "      <td>0.0</td>\n",
              "      <td>0.0</td>\n",
              "      <td>0.0</td>\n",
              "      <td>0.0</td>\n",
              "      <td>0.0</td>\n",
              "      <td>...</td>\n",
              "      <td>0.0</td>\n",
              "      <td>0.0</td>\n",
              "      <td>0.0</td>\n",
              "      <td>0.0</td>\n",
              "      <td>0.0</td>\n",
              "      <td>0.0</td>\n",
              "      <td>0.0</td>\n",
              "      <td>0.0</td>\n",
              "      <td>0.0</td>\n",
              "      <td>0.0</td>\n",
              "    </tr>\n",
              "    <tr>\n",
              "      <th>Animal Farm &amp; 1984</th>\n",
              "      <td>0.0</td>\n",
              "      <td>0.0</td>\n",
              "      <td>0.0</td>\n",
              "      <td>0.0</td>\n",
              "      <td>0.0</td>\n",
              "      <td>0.0</td>\n",
              "      <td>0.0</td>\n",
              "      <td>0.0</td>\n",
              "      <td>0.0</td>\n",
              "      <td>0.0</td>\n",
              "      <td>...</td>\n",
              "      <td>0.0</td>\n",
              "      <td>0.0</td>\n",
              "      <td>0.0</td>\n",
              "      <td>0.0</td>\n",
              "      <td>0.0</td>\n",
              "      <td>0.0</td>\n",
              "      <td>0.0</td>\n",
              "      <td>0.0</td>\n",
              "      <td>0.0</td>\n",
              "      <td>0.0</td>\n",
              "    </tr>\n",
              "    <tr>\n",
              "      <th>Carter Beats the Devil</th>\n",
              "      <td>0.0</td>\n",
              "      <td>0.0</td>\n",
              "      <td>0.0</td>\n",
              "      <td>0.0</td>\n",
              "      <td>0.0</td>\n",
              "      <td>0.0</td>\n",
              "      <td>0.0</td>\n",
              "      <td>0.0</td>\n",
              "      <td>0.0</td>\n",
              "      <td>0.0</td>\n",
              "      <td>...</td>\n",
              "      <td>0.0</td>\n",
              "      <td>0.0</td>\n",
              "      <td>0.0</td>\n",
              "      <td>0.0</td>\n",
              "      <td>0.0</td>\n",
              "      <td>0.0</td>\n",
              "      <td>0.0</td>\n",
              "      <td>0.0</td>\n",
              "      <td>0.0</td>\n",
              "      <td>0.0</td>\n",
              "    </tr>\n",
              "    <tr>\n",
              "      <th>The Fellowship of the Ring</th>\n",
              "      <td>0.0</td>\n",
              "      <td>0.0</td>\n",
              "      <td>0.0</td>\n",
              "      <td>0.0</td>\n",
              "      <td>0.0</td>\n",
              "      <td>0.0</td>\n",
              "      <td>0.0</td>\n",
              "      <td>0.0</td>\n",
              "      <td>0.0</td>\n",
              "      <td>0.0</td>\n",
              "      <td>...</td>\n",
              "      <td>0.0</td>\n",
              "      <td>0.0</td>\n",
              "      <td>0.0</td>\n",
              "      <td>0.0</td>\n",
              "      <td>0.0</td>\n",
              "      <td>0.0</td>\n",
              "      <td>0.0</td>\n",
              "      <td>0.0</td>\n",
              "      <td>0.0</td>\n",
              "      <td>0.0</td>\n",
              "    </tr>\n",
              "    <tr>\n",
              "      <th>めくらやなぎと、眠る女 [Mekurayanagi to, nemuru onna]</th>\n",
              "      <td>0.0</td>\n",
              "      <td>0.0</td>\n",
              "      <td>0.0</td>\n",
              "      <td>0.0</td>\n",
              "      <td>0.0</td>\n",
              "      <td>0.0</td>\n",
              "      <td>0.0</td>\n",
              "      <td>0.0</td>\n",
              "      <td>0.0</td>\n",
              "      <td>0.0</td>\n",
              "      <td>...</td>\n",
              "      <td>0.0</td>\n",
              "      <td>0.0</td>\n",
              "      <td>0.0</td>\n",
              "      <td>0.0</td>\n",
              "      <td>0.0</td>\n",
              "      <td>0.0</td>\n",
              "      <td>0.0</td>\n",
              "      <td>0.0</td>\n",
              "      <td>0.0</td>\n",
              "      <td>0.0</td>\n",
              "    </tr>\n",
              "  </tbody>\n",
              "</table>\n",
              "<p>5 rows × 28554 columns</p>\n",
              "</div>\n",
              "      <button class=\"colab-df-convert\" onclick=\"convertToInteractive('df-16165ff6-273f-4523-ad5d-63473bb82f39')\"\n",
              "              title=\"Convert this dataframe to an interactive table.\"\n",
              "              style=\"display:none;\">\n",
              "        \n",
              "  <svg xmlns=\"http://www.w3.org/2000/svg\" height=\"24px\"viewBox=\"0 0 24 24\"\n",
              "       width=\"24px\">\n",
              "    <path d=\"M0 0h24v24H0V0z\" fill=\"none\"/>\n",
              "    <path d=\"M18.56 5.44l.94 2.06.94-2.06 2.06-.94-2.06-.94-.94-2.06-.94 2.06-2.06.94zm-11 1L8.5 8.5l.94-2.06 2.06-.94-2.06-.94L8.5 2.5l-.94 2.06-2.06.94zm10 10l.94 2.06.94-2.06 2.06-.94-2.06-.94-.94-2.06-.94 2.06-2.06.94z\"/><path d=\"M17.41 7.96l-1.37-1.37c-.4-.4-.92-.59-1.43-.59-.52 0-1.04.2-1.43.59L10.3 9.45l-7.72 7.72c-.78.78-.78 2.05 0 2.83L4 21.41c.39.39.9.59 1.41.59.51 0 1.02-.2 1.41-.59l7.78-7.78 2.81-2.81c.8-.78.8-2.07 0-2.86zM5.41 20L4 18.59l7.72-7.72 1.47 1.35L5.41 20z\"/>\n",
              "  </svg>\n",
              "      </button>\n",
              "      \n",
              "  <style>\n",
              "    .colab-df-container {\n",
              "      display:flex;\n",
              "      flex-wrap:wrap;\n",
              "      gap: 12px;\n",
              "    }\n",
              "\n",
              "    .colab-df-convert {\n",
              "      background-color: #E8F0FE;\n",
              "      border: none;\n",
              "      border-radius: 50%;\n",
              "      cursor: pointer;\n",
              "      display: none;\n",
              "      fill: #1967D2;\n",
              "      height: 32px;\n",
              "      padding: 0 0 0 0;\n",
              "      width: 32px;\n",
              "    }\n",
              "\n",
              "    .colab-df-convert:hover {\n",
              "      background-color: #E2EBFA;\n",
              "      box-shadow: 0px 1px 2px rgba(60, 64, 67, 0.3), 0px 1px 3px 1px rgba(60, 64, 67, 0.15);\n",
              "      fill: #174EA6;\n",
              "    }\n",
              "\n",
              "    [theme=dark] .colab-df-convert {\n",
              "      background-color: #3B4455;\n",
              "      fill: #D2E3FC;\n",
              "    }\n",
              "\n",
              "    [theme=dark] .colab-df-convert:hover {\n",
              "      background-color: #434B5C;\n",
              "      box-shadow: 0px 1px 3px 1px rgba(0, 0, 0, 0.15);\n",
              "      filter: drop-shadow(0px 1px 2px rgba(0, 0, 0, 0.3));\n",
              "      fill: #FFFFFF;\n",
              "    }\n",
              "  </style>\n",
              "\n",
              "      <script>\n",
              "        const buttonEl =\n",
              "          document.querySelector('#df-16165ff6-273f-4523-ad5d-63473bb82f39 button.colab-df-convert');\n",
              "        buttonEl.style.display =\n",
              "          google.colab.kernel.accessAllowed ? 'block' : 'none';\n",
              "\n",
              "        async function convertToInteractive(key) {\n",
              "          const element = document.querySelector('#df-16165ff6-273f-4523-ad5d-63473bb82f39');\n",
              "          const dataTable =\n",
              "            await google.colab.kernel.invokeFunction('convertToInteractive',\n",
              "                                                     [key], {});\n",
              "          if (!dataTable) return;\n",
              "\n",
              "          const docLinkHtml = 'Like what you see? Visit the ' +\n",
              "            '<a target=\"_blank\" href=https://colab.research.google.com/notebooks/data_table.ipynb>data table notebook</a>'\n",
              "            + ' to learn more about interactive tables.';\n",
              "          element.innerHTML = '';\n",
              "          dataTable['output_type'] = 'display_data';\n",
              "          await google.colab.output.renderOutput(dataTable, element);\n",
              "          const docLink = document.createElement('div');\n",
              "          docLink.innerHTML = docLinkHtml;\n",
              "          element.appendChild(docLink);\n",
              "        }\n",
              "      </script>\n",
              "    </div>\n",
              "  </div>\n",
              "  "
            ]
          },
          "metadata": {},
          "execution_count": 183
        }
      ]
    },
    {
      "cell_type": "code",
      "source": [
        "#Como temos uma matriz, preenchida com muitos zeros, devido a falta de avaliação de alguns usuarios\n",
        "#então iremos a transformar em uma matriz esparsa\n",
        "from scipy.sparse import csr_matrix"
      ],
      "metadata": {
        "id": "jkt1M5HhDWWb"
      },
      "execution_count": 184,
      "outputs": []
    },
    {
      "cell_type": "code",
      "source": [
        "esparse_livro_usuario = csr_matrix(livro_usuario.values)"
      ],
      "metadata": {
        "id": "sSOSY5OPD1ew"
      },
      "execution_count": 185,
      "outputs": []
    },
    {
      "cell_type": "code",
      "source": [
        "from sklearn.neighbors import NearestNeighbors"
      ],
      "metadata": {
        "id": "3tcxQbMfEPj_"
      },
      "execution_count": 186,
      "outputs": []
    },
    {
      "cell_type": "code",
      "source": [
        "#Criação do modelo\n",
        "modelo = NearestNeighbors(metric = 'cosine', algorithm='brute')"
      ],
      "metadata": {
        "id": "5e3SW5gQEQ_g"
      },
      "execution_count": 187,
      "outputs": []
    },
    {
      "cell_type": "code",
      "source": [
        "#Treinamento\n",
        "modelo.fit(esparse_livro_usuario)"
      ],
      "metadata": {
        "colab": {
          "base_uri": "https://localhost:8080/",
          "height": 75
        },
        "id": "5CdPvtCKEoxL",
        "outputId": "c9cc575d-cdfe-47a0-fa86-0042bc17f162"
      },
      "execution_count": 188,
      "outputs": [
        {
          "output_type": "execute_result",
          "data": {
            "text/plain": [
              "NearestNeighbors(algorithm='brute', metric='cosine')"
            ],
            "text/html": [
              "<style>#sk-container-id-1 {color: black;background-color: white;}#sk-container-id-1 pre{padding: 0;}#sk-container-id-1 div.sk-toggleable {background-color: white;}#sk-container-id-1 label.sk-toggleable__label {cursor: pointer;display: block;width: 100%;margin-bottom: 0;padding: 0.3em;box-sizing: border-box;text-align: center;}#sk-container-id-1 label.sk-toggleable__label-arrow:before {content: \"▸\";float: left;margin-right: 0.25em;color: #696969;}#sk-container-id-1 label.sk-toggleable__label-arrow:hover:before {color: black;}#sk-container-id-1 div.sk-estimator:hover label.sk-toggleable__label-arrow:before {color: black;}#sk-container-id-1 div.sk-toggleable__content {max-height: 0;max-width: 0;overflow: hidden;text-align: left;background-color: #f0f8ff;}#sk-container-id-1 div.sk-toggleable__content pre {margin: 0.2em;color: black;border-radius: 0.25em;background-color: #f0f8ff;}#sk-container-id-1 input.sk-toggleable__control:checked~div.sk-toggleable__content {max-height: 200px;max-width: 100%;overflow: auto;}#sk-container-id-1 input.sk-toggleable__control:checked~label.sk-toggleable__label-arrow:before {content: \"▾\";}#sk-container-id-1 div.sk-estimator input.sk-toggleable__control:checked~label.sk-toggleable__label {background-color: #d4ebff;}#sk-container-id-1 div.sk-label input.sk-toggleable__control:checked~label.sk-toggleable__label {background-color: #d4ebff;}#sk-container-id-1 input.sk-hidden--visually {border: 0;clip: rect(1px 1px 1px 1px);clip: rect(1px, 1px, 1px, 1px);height: 1px;margin: -1px;overflow: hidden;padding: 0;position: absolute;width: 1px;}#sk-container-id-1 div.sk-estimator {font-family: monospace;background-color: #f0f8ff;border: 1px dotted black;border-radius: 0.25em;box-sizing: border-box;margin-bottom: 0.5em;}#sk-container-id-1 div.sk-estimator:hover {background-color: #d4ebff;}#sk-container-id-1 div.sk-parallel-item::after {content: \"\";width: 100%;border-bottom: 1px solid gray;flex-grow: 1;}#sk-container-id-1 div.sk-label:hover label.sk-toggleable__label {background-color: #d4ebff;}#sk-container-id-1 div.sk-serial::before {content: \"\";position: absolute;border-left: 1px solid gray;box-sizing: border-box;top: 0;bottom: 0;left: 50%;z-index: 0;}#sk-container-id-1 div.sk-serial {display: flex;flex-direction: column;align-items: center;background-color: white;padding-right: 0.2em;padding-left: 0.2em;position: relative;}#sk-container-id-1 div.sk-item {position: relative;z-index: 1;}#sk-container-id-1 div.sk-parallel {display: flex;align-items: stretch;justify-content: center;background-color: white;position: relative;}#sk-container-id-1 div.sk-item::before, #sk-container-id-1 div.sk-parallel-item::before {content: \"\";position: absolute;border-left: 1px solid gray;box-sizing: border-box;top: 0;bottom: 0;left: 50%;z-index: -1;}#sk-container-id-1 div.sk-parallel-item {display: flex;flex-direction: column;z-index: 1;position: relative;background-color: white;}#sk-container-id-1 div.sk-parallel-item:first-child::after {align-self: flex-end;width: 50%;}#sk-container-id-1 div.sk-parallel-item:last-child::after {align-self: flex-start;width: 50%;}#sk-container-id-1 div.sk-parallel-item:only-child::after {width: 0;}#sk-container-id-1 div.sk-dashed-wrapped {border: 1px dashed gray;margin: 0 0.4em 0.5em 0.4em;box-sizing: border-box;padding-bottom: 0.4em;background-color: white;}#sk-container-id-1 div.sk-label label {font-family: monospace;font-weight: bold;display: inline-block;line-height: 1.2em;}#sk-container-id-1 div.sk-label-container {text-align: center;}#sk-container-id-1 div.sk-container {/* jupyter's `normalize.less` sets `[hidden] { display: none; }` but bootstrap.min.css set `[hidden] { display: none !important; }` so we also need the `!important` here to be able to override the default hidden behavior on the sphinx rendered scikit-learn.org. See: https://github.com/scikit-learn/scikit-learn/issues/21755 */display: inline-block !important;position: relative;}#sk-container-id-1 div.sk-text-repr-fallback {display: none;}</style><div id=\"sk-container-id-1\" class=\"sk-top-container\"><div class=\"sk-text-repr-fallback\"><pre>NearestNeighbors(algorithm=&#x27;brute&#x27;, metric=&#x27;cosine&#x27;)</pre><b>In a Jupyter environment, please rerun this cell to show the HTML representation or trust the notebook. <br />On GitHub, the HTML representation is unable to render, please try loading this page with nbviewer.org.</b></div><div class=\"sk-container\" hidden><div class=\"sk-item\"><div class=\"sk-estimator sk-toggleable\"><input class=\"sk-toggleable__control sk-hidden--visually\" id=\"sk-estimator-id-1\" type=\"checkbox\" checked><label for=\"sk-estimator-id-1\" class=\"sk-toggleable__label sk-toggleable__label-arrow\">NearestNeighbors</label><div class=\"sk-toggleable__content\"><pre>NearestNeighbors(algorithm=&#x27;brute&#x27;, metric=&#x27;cosine&#x27;)</pre></div></div></div></div></div>"
            ]
          },
          "metadata": {},
          "execution_count": 188
        }
      ]
    },
    {
      "cell_type": "markdown",
      "source": [
        "## Testando alguns livros"
      ],
      "metadata": {
        "id": "VNUww4rYFE_7"
      }
    },
    {
      "cell_type": "code",
      "source": [
        "livro_usuario.loc[livro_usuario.index.str.contains('Harry Potter'), ].index"
      ],
      "metadata": {
        "colab": {
          "base_uri": "https://localhost:8080/",
          "height": 0
        },
        "id": "11vxfpaGFHsZ",
        "outputId": "0863b891-8115-491d-90f0-352c4b87db65"
      },
      "execution_count": 208,
      "outputs": [
        {
          "output_type": "execute_result",
          "data": {
            "text/plain": [
              "Index(['Harry Potter Collection (Harry Potter, #1-6)',\n",
              "       'Harry Potter and the Goblet of Fire',\n",
              "       'Harry Potter and the Half-Blood Prince',\n",
              "       'Harry Potter and the Order of the Phoenix',\n",
              "       'Harry Potter and the Philosopher's Stone',\n",
              "       'Harry Potter and the Prisoner of Azkaban'],\n",
              "      dtype='object', name='titulo')"
            ]
          },
          "metadata": {},
          "execution_count": 208
        }
      ]
    },
    {
      "cell_type": "code",
      "source": [
        "livro = 'Harry Potter and the Order of the Phoenix'\n",
        "\n",
        "posicao_livro = livro_usuario.index.get_loc(livro)\n",
        "\n",
        "posicao_livro"
      ],
      "metadata": {
        "colab": {
          "base_uri": "https://localhost:8080/",
          "height": 0
        },
        "id": "NMl1YrjWH4H8",
        "outputId": "d9fffcfd-944b-4071-de72-2c8bf1483215"
      },
      "execution_count": 209,
      "outputs": [
        {
          "output_type": "execute_result",
          "data": {
            "text/plain": [
              "239"
            ]
          },
          "metadata": {},
          "execution_count": 209
        }
      ]
    },
    {
      "cell_type": "code",
      "source": [
        "quantidade_recomendacoes = 15\n",
        "\n",
        "distancias, indices = modelo.kneighbors(livro_usuario.filter(items = ['Harry Potter and the Order of the Phoenix'], axis=0).values.reshape(1, -1), n_neighbors = quantidade_recomendacoes+1)\n",
        "\n",
        "for i in range(0, len(distancias.flatten())):\n",
        "    if i == 0:\n",
        "        print('Recomendações para {0}:\\n'.format(livro_usuario.index[posicao_livro]))\n",
        "    else:\n",
        "        print('{0}: {1}, com a distância de: {2}:'.format(i, livro_usuario.index[indices.flatten()[i]], distancias.flatten()[i]))"
      ],
      "metadata": {
        "colab": {
          "base_uri": "https://localhost:8080/",
          "height": 0
        },
        "id": "joFSWR0TGTkU",
        "outputId": "797de24e-2f6f-4957-be2f-ddb22c48ca49"
      },
      "execution_count": 210,
      "outputs": [
        {
          "output_type": "stream",
          "name": "stdout",
          "text": [
            "Recomendações para Harry Potter and the Order of the Phoenix:\n",
            "\n",
            "1: The Lord of the Rings, com a distância de: 0.40241308954159594:\n",
            "2: The Ultimate Hitchhiker's Guide: Five Complete Novels and One Story, com a distância de: 0.4097614772716248:\n",
            "3: Harry Potter and the Prisoner of Azkaban, com a distância de: 0.41205601974725015:\n",
            "4: Notes from a Small Island, com a distância de: 0.4159568738240007:\n",
            "5: Harry Potter and the Half-Blood Prince, com a distância de: 0.4444738573252147:\n",
            "6: Down Under, com a distância de: 0.44452856661417617:\n",
            "7: Harry Potter Collection (Harry Potter, #1-6), com a distância de: 0.4538274129514055:\n",
            "8: Neither Here Nor There: Travels in Europe, com a distância de: 0.4760079559313145:\n",
            "9: Harry Potter and the Philosopher's Stone, com a distância de: 0.47978396766329523:\n",
            "10: A Short History of Nearly Everything, com a distância de: 0.4902663208935032:\n",
            "11: Notes from a Big Country, com a distância de: 0.4916473653314325:\n",
            "12: The Hitchhiker's Guide to the Galaxy, com a distância de: 0.5099964808036138:\n",
            "13: Heidi, com a distância de: 0.5107318575508577:\n",
            "14: The Mother Tongue: English and How It Got That Way, com a distância de: 0.5322539146787257:\n",
            "15: The Lord of the Rings: Weapons and Warfare, com a distância de: 0.5471346850678652:\n"
          ]
        }
      ]
    },
    {
      "cell_type": "markdown",
      "source": [
        "## Recomendações com a capa"
      ],
      "metadata": {
        "id": "JQpnC8bfJAy0"
      }
    },
    {
      "cell_type": "code",
      "source": [
        "from IPython.display import HTML\n",
        "\n",
        "for i in range(0, len(distancias.flatten())):\n",
        "    if i == 0:\n",
        "        print('Recomendações para {0}:\\n'.format(livro_usuario.index[posicao_livro]))\n",
        "    else:\n",
        "        # Pegando o título da recomendação\n",
        "        titulo_recomendacao = livro_usuario.index[indices.flatten()[i]]\n",
        "\n",
        "        # Buscando a url da capa a partir do título (não temos mais o isbn, lembra?)\n",
        "        titulo, url_capa = livros_df.loc[livros_df['titulo'] == titulo_recomendacao, ['titulo', 'url_capa']].values[0]\n",
        "\n",
        "        # Imprimindo o título e usando a função HTML para mostrar a imagem a partir\n",
        "        # da URL\n",
        "        print(f'Recomendação {i}: {titulo}')\n",
        "        display(HTML(f'<img src=\"{url_capa}\">'))"
      ],
      "metadata": {
        "colab": {
          "base_uri": "https://localhost:8080/",
          "height": 2565
        },
        "id": "9T5e3SnaItQu",
        "outputId": "c9a67e98-2004-48f3-dc1a-fb958285f2bf"
      },
      "execution_count": 211,
      "outputs": [
        {
          "output_type": "stream",
          "name": "stdout",
          "text": [
            "Recomendações para Harry Potter and the Order of the Phoenix:\n",
            "\n",
            "Recomendação 1: The Lord of the Rings\n"
          ]
        },
        {
          "output_type": "display_data",
          "data": {
            "text/plain": [
              "<IPython.core.display.HTML object>"
            ],
            "text/html": [
              "<img src=\"https://images.gr-assets.com/books/1411114164m/33.jpg\">"
            ]
          },
          "metadata": {}
        },
        {
          "output_type": "stream",
          "name": "stdout",
          "text": [
            "Recomendação 2: The Ultimate Hitchhiker's Guide: Five Complete Novels and One Story\n"
          ]
        },
        {
          "output_type": "display_data",
          "data": {
            "text/plain": [
              "<IPython.core.display.HTML object>"
            ],
            "text/html": [
              "<img src=\"https://images.gr-assets.com/books/1404613595m/13.jpg\">"
            ]
          },
          "metadata": {}
        },
        {
          "output_type": "stream",
          "name": "stdout",
          "text": [
            "Recomendação 3: Harry Potter and the Prisoner of Azkaban\n"
          ]
        },
        {
          "output_type": "display_data",
          "data": {
            "text/plain": [
              "<IPython.core.display.HTML object>"
            ],
            "text/html": [
              "<img src=\"https://images.gr-assets.com/books/1499277281m/5.jpg\">"
            ]
          },
          "metadata": {}
        },
        {
          "output_type": "stream",
          "name": "stdout",
          "text": [
            "Recomendação 4: Notes from a Small Island\n"
          ]
        },
        {
          "output_type": "display_data",
          "data": {
            "text/plain": [
              "<IPython.core.display.HTML object>"
            ],
            "text/html": [
              "<img src=\"https://images.gr-assets.com/books/1479653223m/28.jpg\">"
            ]
          },
          "metadata": {}
        },
        {
          "output_type": "stream",
          "name": "stdout",
          "text": [
            "Recomendação 5: Harry Potter and the Half-Blood Prince\n"
          ]
        },
        {
          "output_type": "display_data",
          "data": {
            "text/plain": [
              "<IPython.core.display.HTML object>"
            ],
            "text/html": [
              "<img src=\"https://images.gr-assets.com/books/1361039191m/1.jpg\">"
            ]
          },
          "metadata": {}
        },
        {
          "output_type": "stream",
          "name": "stdout",
          "text": [
            "Recomendação 6: Down Under\n"
          ]
        },
        {
          "output_type": "display_data",
          "data": {
            "text/plain": [
              "<IPython.core.display.HTML object>"
            ],
            "text/html": [
              "<img src=\"https://s.gr-assets.com/assets/nophoto/book/111x148-bcc042a9c91a29c1d680899eff700a03.png\">"
            ]
          },
          "metadata": {}
        },
        {
          "output_type": "stream",
          "name": "stdout",
          "text": [
            "Recomendação 7: Harry Potter Collection (Harry Potter, #1-6)\n"
          ]
        },
        {
          "output_type": "display_data",
          "data": {
            "text/plain": [
              "<IPython.core.display.HTML object>"
            ],
            "text/html": [
              "<img src=\"https://images.gr-assets.com/books/1328867351m/10.jpg\">"
            ]
          },
          "metadata": {}
        },
        {
          "output_type": "stream",
          "name": "stdout",
          "text": [
            "Recomendação 8: Neither Here Nor There: Travels in Europe\n"
          ]
        },
        {
          "output_type": "display_data",
          "data": {
            "text/plain": [
              "<IPython.core.display.HTML object>"
            ],
            "text/html": [
              "<img src=\"https://s.gr-assets.com/assets/nophoto/book/111x148-bcc042a9c91a29c1d680899eff700a03.png\">"
            ]
          },
          "metadata": {}
        },
        {
          "output_type": "stream",
          "name": "stdout",
          "text": [
            "Recomendação 9: Harry Potter and the Philosopher's Stone\n"
          ]
        },
        {
          "output_type": "display_data",
          "data": {
            "text/plain": [
              "<IPython.core.display.HTML object>"
            ],
            "text/html": [
              "<img src=\"https://images.gr-assets.com/books/1474154022m/3.jpg\">"
            ]
          },
          "metadata": {}
        },
        {
          "output_type": "stream",
          "name": "stdout",
          "text": [
            "Recomendação 10: A Short History of Nearly Everything\n"
          ]
        },
        {
          "output_type": "display_data",
          "data": {
            "text/plain": [
              "<IPython.core.display.HTML object>"
            ],
            "text/html": [
              "<img src=\"https://s.gr-assets.com/assets/nophoto/book/111x148-bcc042a9c91a29c1d680899eff700a03.png\">"
            ]
          },
          "metadata": {}
        },
        {
          "output_type": "stream",
          "name": "stdout",
          "text": [
            "Recomendação 11: Notes from a Big Country\n"
          ]
        },
        {
          "output_type": "display_data",
          "data": {
            "text/plain": [
              "<IPython.core.display.HTML object>"
            ],
            "text/html": [
              "<img src=\"https://s.gr-assets.com/assets/nophoto/book/111x148-bcc042a9c91a29c1d680899eff700a03.png\">"
            ]
          },
          "metadata": {}
        },
        {
          "output_type": "stream",
          "name": "stdout",
          "text": [
            "Recomendação 12: The Hitchhiker's Guide to the Galaxy\n"
          ]
        },
        {
          "output_type": "display_data",
          "data": {
            "text/plain": [
              "<IPython.core.display.HTML object>"
            ],
            "text/html": [
              "<img src=\"https://images.gr-assets.com/books/1327656754m/11.jpg\">"
            ]
          },
          "metadata": {}
        },
        {
          "output_type": "stream",
          "name": "stdout",
          "text": [
            "Recomendação 13: Heidi\n"
          ]
        },
        {
          "output_type": "display_data",
          "data": {
            "text/plain": [
              "<IPython.core.display.HTML object>"
            ],
            "text/html": [
              "<img src=\"https://s.gr-assets.com/assets/nophoto/book/111x148-bcc042a9c91a29c1d680899eff700a03.png\">"
            ]
          },
          "metadata": {}
        },
        {
          "output_type": "stream",
          "name": "stdout",
          "text": [
            "Recomendação 14: The Mother Tongue: English and How It Got That Way\n"
          ]
        },
        {
          "output_type": "display_data",
          "data": {
            "text/plain": [
              "<IPython.core.display.HTML object>"
            ],
            "text/html": [
              "<img src=\"https://images.gr-assets.com/books/1388209925m/29.jpg\">"
            ]
          },
          "metadata": {}
        },
        {
          "output_type": "stream",
          "name": "stdout",
          "text": [
            "Recomendação 15: The Lord of the Rings: Weapons and Warfare\n"
          ]
        },
        {
          "output_type": "display_data",
          "data": {
            "text/plain": [
              "<IPython.core.display.HTML object>"
            ],
            "text/html": [
              "<img src=\"https://s.gr-assets.com/assets/nophoto/book/111x148-bcc042a9c91a29c1d680899eff700a03.png\">"
            ]
          },
          "metadata": {}
        }
      ]
    }
  ]
}
